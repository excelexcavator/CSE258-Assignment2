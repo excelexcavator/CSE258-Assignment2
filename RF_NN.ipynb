{
 "cells": [
  {
   "cell_type": "code",
   "execution_count": 1,
   "metadata": {},
   "outputs": [],
   "source": [
    "import numpy as np\n",
    "import pandas as pd\n",
    "import seaborn as sns\n",
    "import matplotlib.pyplot as plt\n",
    "from collections import defaultdict"
   ]
  },
  {
   "cell_type": "code",
   "execution_count": 23,
   "metadata": {},
   "outputs": [],
   "source": [
    "import sys\n",
    "\n",
    "class ShowProcess():\n",
    "    i = 0\n",
    "    max_steps = 0\n",
    "    max_arrow = 50 # length of bar\n",
    "    infoDone = 'done'\n",
    "    \n",
    "    def __init__(self, max_steps, infoDone = 'Done'):\n",
    "        self.max_steps = max_steps\n",
    "        self.i = 0\n",
    "        self.infoDone = infoDone\n",
    "    \n",
    "    def show_process(self, i=None):\n",
    "        if i is not None:\n",
    "            self.i = i\n",
    "        else:\n",
    "            self.i += 1\n",
    "        num_arrow = int(self.i * self.max_arrow / self.max_steps)\n",
    "        num_line = self.max_arrow - num_arrow\n",
    "        percent = self.i * 100.0 / self.max_steps\n",
    "        process_bar = '[' + '>' * num_arrow + '-' * num_line + ']'\\\n",
    "            + '%.2f' % percent + '%' + '\\r'\n",
    "        sys.stdout.write(process_bar)\n",
    "        sys.stdout.flush()\n",
    "        if self.i >= self.max_steps:\n",
    "            self.close()\n",
    "\n",
    "    def close(self):\n",
    "        print('')\n",
    "        print(self.infoDone)\n",
    "        self.i = 0"
   ]
  },
  {
   "cell_type": "code",
   "execution_count": 4,
   "metadata": {},
   "outputs": [],
   "source": [
    "data_train = pd.read_csv('beer_train.csv')\n",
    "data_val = pd.read_csv('beer_val.csv')\n",
    "data_test = pd.read_csv('beer_test.csv')"
   ]
  },
  {
   "cell_type": "code",
   "execution_count": 5,
   "metadata": {},
   "outputs": [
    {
     "data": {
      "text/html": [
       "<div>\n",
       "<style scoped>\n",
       "    .dataframe tbody tr th:only-of-type {\n",
       "        vertical-align: middle;\n",
       "    }\n",
       "\n",
       "    .dataframe tbody tr th {\n",
       "        vertical-align: top;\n",
       "    }\n",
       "\n",
       "    .dataframe thead th {\n",
       "        text-align: right;\n",
       "    }\n",
       "</style>\n",
       "<table border=\"1\" class=\"dataframe\">\n",
       "  <thead>\n",
       "    <tr style=\"text-align: right;\">\n",
       "      <th></th>\n",
       "      <th>brewery_id</th>\n",
       "      <th>beer_id</th>\n",
       "      <th>user_id</th>\n",
       "      <th>review_overall</th>\n",
       "      <th>review_aroma</th>\n",
       "      <th>review_appearance</th>\n",
       "      <th>review_palate</th>\n",
       "      <th>review_taste</th>\n",
       "      <th>beer_abv</th>\n",
       "      <th>beer_style</th>\n",
       "      <th>review_year</th>\n",
       "      <th>review_month</th>\n",
       "      <th>review_day</th>\n",
       "      <th>review_weekday</th>\n",
       "      <th>review_hour</th>\n",
       "    </tr>\n",
       "  </thead>\n",
       "  <tbody>\n",
       "    <tr>\n",
       "      <th>0</th>\n",
       "      <td>418</td>\n",
       "      <td>44706</td>\n",
       "      <td>28545</td>\n",
       "      <td>3.0</td>\n",
       "      <td>3.0</td>\n",
       "      <td>3.0</td>\n",
       "      <td>3.5</td>\n",
       "      <td>2.5</td>\n",
       "      <td>6.7</td>\n",
       "      <td>57</td>\n",
       "      <td>2010</td>\n",
       "      <td>8</td>\n",
       "      <td>26</td>\n",
       "      <td>3</td>\n",
       "      <td>5</td>\n",
       "    </tr>\n",
       "    <tr>\n",
       "      <th>1</th>\n",
       "      <td>22</td>\n",
       "      <td>31</td>\n",
       "      <td>26939</td>\n",
       "      <td>5.0</td>\n",
       "      <td>4.5</td>\n",
       "      <td>3.5</td>\n",
       "      <td>4.0</td>\n",
       "      <td>5.0</td>\n",
       "      <td>5.0</td>\n",
       "      <td>98</td>\n",
       "      <td>2006</td>\n",
       "      <td>12</td>\n",
       "      <td>24</td>\n",
       "      <td>6</td>\n",
       "      <td>20</td>\n",
       "    </tr>\n",
       "    <tr>\n",
       "      <th>2</th>\n",
       "      <td>287</td>\n",
       "      <td>46610</td>\n",
       "      <td>31637</td>\n",
       "      <td>4.0</td>\n",
       "      <td>4.0</td>\n",
       "      <td>4.5</td>\n",
       "      <td>4.5</td>\n",
       "      <td>5.0</td>\n",
       "      <td>9.5</td>\n",
       "      <td>74</td>\n",
       "      <td>2009</td>\n",
       "      <td>6</td>\n",
       "      <td>4</td>\n",
       "      <td>3</td>\n",
       "      <td>16</td>\n",
       "    </tr>\n",
       "    <tr>\n",
       "      <th>3</th>\n",
       "      <td>423</td>\n",
       "      <td>3322</td>\n",
       "      <td>28242</td>\n",
       "      <td>3.5</td>\n",
       "      <td>3.5</td>\n",
       "      <td>3.5</td>\n",
       "      <td>4.0</td>\n",
       "      <td>4.0</td>\n",
       "      <td>5.9</td>\n",
       "      <td>46</td>\n",
       "      <td>2010</td>\n",
       "      <td>1</td>\n",
       "      <td>26</td>\n",
       "      <td>1</td>\n",
       "      <td>18</td>\n",
       "    </tr>\n",
       "    <tr>\n",
       "      <th>4</th>\n",
       "      <td>18149</td>\n",
       "      <td>31656</td>\n",
       "      <td>15921</td>\n",
       "      <td>4.0</td>\n",
       "      <td>4.0</td>\n",
       "      <td>3.5</td>\n",
       "      <td>4.0</td>\n",
       "      <td>4.0</td>\n",
       "      <td>8.0</td>\n",
       "      <td>37</td>\n",
       "      <td>2010</td>\n",
       "      <td>3</td>\n",
       "      <td>19</td>\n",
       "      <td>4</td>\n",
       "      <td>17</td>\n",
       "    </tr>\n",
       "  </tbody>\n",
       "</table>\n",
       "</div>"
      ],
      "text/plain": [
       "   brewery_id  beer_id  user_id  review_overall  review_aroma  \\\n",
       "0         418    44706    28545             3.0           3.0   \n",
       "1          22       31    26939             5.0           4.5   \n",
       "2         287    46610    31637             4.0           4.0   \n",
       "3         423     3322    28242             3.5           3.5   \n",
       "4       18149    31656    15921             4.0           4.0   \n",
       "\n",
       "   review_appearance  review_palate  review_taste  beer_abv  beer_style  \\\n",
       "0                3.0            3.5           2.5       6.7          57   \n",
       "1                3.5            4.0           5.0       5.0          98   \n",
       "2                4.5            4.5           5.0       9.5          74   \n",
       "3                3.5            4.0           4.0       5.9          46   \n",
       "4                3.5            4.0           4.0       8.0          37   \n",
       "\n",
       "   review_year  review_month  review_day  review_weekday  review_hour  \n",
       "0         2010             8          26               3            5  \n",
       "1         2006            12          24               6           20  \n",
       "2         2009             6           4               3           16  \n",
       "3         2010             1          26               1           18  \n",
       "4         2010             3          19               4           17  "
      ]
     },
     "execution_count": 5,
     "metadata": {},
     "output_type": "execute_result"
    }
   ],
   "source": [
    "data_train.head()"
   ]
  },
  {
   "cell_type": "code",
   "execution_count": 45,
   "metadata": {},
   "outputs": [
    {
     "name": "stdout",
     "output_type": "stream",
     "text": [
      "[>>>>>>>>>>>>>>>>>>>>>>>>>>>>>>>>>>>>>>>>>>>>>>>>>>]100.00%\n",
      " \n"
     ]
    }
   ],
   "source": [
    "beer_review_aroma = defaultdict(float)\n",
    "user_review_aroma = defaultdict(float)\n",
    "style_review_aroma = defaultdict(float)\n",
    "beer_review_appearance = defaultdict(float)\n",
    "user_review_appearance = defaultdict(float)\n",
    "style_review_appearance = defaultdict(float)\n",
    "beer_review_palate = defaultdict(float)\n",
    "user_review_palate = defaultdict(float)\n",
    "style_review_palate = defaultdict(float)\n",
    "beer_review_taste = defaultdict(float)\n",
    "user_review_taste = defaultdict(float)\n",
    "style_review_taste = defaultdict(float)\n",
    "\n",
    "process_bar = ShowProcess(len(set(data_train['beer_id']))+\n",
    "                          len(set(data_train['user_id']))+\n",
    "                          len(set(data_train['beer_style'])), ' ')\n",
    "\n",
    "for b in set(data_train['beer_id']):\n",
    "    process_bar.show_process()\n",
    "    entries = data_train[data_train['beer_id']==b].mean()\n",
    "    beer_review_aroma[b] = entries['review_aroma']\n",
    "    beer_review_appearance[b] = entries['review_appearance']\n",
    "    beer_review_palate[b] = entries['review_palate']\n",
    "    beer_review_taste[b] = entries['review_taste']\n",
    "    \n",
    "for u in set(data_train['user_id']):\n",
    "    process_bar.show_process()\n",
    "    entries = data_train[data_train['user_id']==u].mean()\n",
    "    user_review_aroma[u] = entries['review_aroma']\n",
    "    user_review_appearance[u] = entries['review_appearance']\n",
    "    user_review_palate[u] = entries['review_palate']\n",
    "    user_review_taste[u] = entries['review_taste']\n",
    "    \n",
    "for s in set(data_train['beer_style']):\n",
    "    process_bar.show_process()\n",
    "    entries = data_train[data_train['beer_style']==s].mean()\n",
    "    style_review_aroma[s] = entries['review_aroma']\n",
    "    style_review_appearance[s] = entries['review_appearance']\n",
    "    style_review_palate[s] = entries['review_palate']\n",
    "    style_review_taste[s] = entries['review_taste']"
   ]
  },
  {
   "cell_type": "code",
   "execution_count": 136,
   "metadata": {},
   "outputs": [],
   "source": [
    "for data_ in [data_train, data_val, data_test]:\n",
    "    data_['beer_review_aroma'] = [beer_review_aroma[b] for b in data_['beer_id']]\n",
    "    data_['user_review_aroma'] = [user_review_aroma[u] for u in data_['user_id']]\n",
    "    data_['style_review_aroma'] = [style_review_aroma[s] for s in data_['beer_style']]\n",
    "    data_['beer_review_appearance'] = [beer_review_appearance[b] for b in data_['beer_id']]\n",
    "    data_['user_review_appearance'] = [user_review_appearance[u] for u in data_['user_id']]\n",
    "    data_['style_review_appearance'] = [style_review_appearance[s] for s in data_['beer_style']]\n",
    "    data_['beer_review_palate'] = [beer_review_palate[b] for b in data_['beer_id']]\n",
    "    data_['user_review_palate'] = [user_review_palate[u] for u in data_['user_id']]\n",
    "    data_['style_review_palate'] = [style_review_palate[s] for s in data_['beer_style']]\n",
    "    data_['beer_review_taste'] = [beer_review_taste[b] for b in data_['beer_id']]\n",
    "    data_['user_review_taste'] = [user_review_taste[u] for u in data_['user_id']]\n",
    "    data_['style_review_taste'] = [style_review_taste[s] for s in data_['beer_style']]\n",
    "    data_.drop(data_[np.isnan(data_['beer_abv'])].index, inplace=True)"
   ]
  },
  {
   "cell_type": "code",
   "execution_count": 264,
   "metadata": {},
   "outputs": [],
   "source": [
    "features = ['beer_review_aroma','user_review_aroma','style_review_aroma',\n",
    "            'beer_review_appearance','user_review_appearance','style_review_appearance',\n",
    "            'beer_review_palate','user_review_palate','style_review_palate',\n",
    "            'beer_review_taste','user_review_taste','style_review_taste',\n",
    "            'beer_abv','review_year']\n",
    "#features = ['beer_review_taste','user_review_taste','style_review_taste']\n",
    "X_train = data_train[features]\n",
    "y_train = data_train['review_overall']\n",
    "X_val = data_val[features]\n",
    "y_val = data_val['review_overall']\n",
    "X_test = data_test[features]\n",
    "y_test = data_test['review_overall']"
   ]
  },
  {
   "cell_type": "code",
   "execution_count": 177,
   "metadata": {},
   "outputs": [
    {
     "name": "stdout",
     "output_type": "stream",
     "text": [
      "Testing set RMSE: $0.729\n",
      "beer_review_aroma 0.04265476675621632\n",
      "user_review_aroma 0.09524389353896742\n",
      "style_review_aroma 0.01766416697498755\n",
      "beer_review_appearance 0.042014433309193217\n",
      "user_review_appearance 0.09598874385541431\n",
      "style_review_appearance 0.02013351783382428\n",
      "beer_review_palate 0.0444977026003725\n",
      "user_review_palate 0.09622243667221472\n",
      "style_review_palate 0.01458290781404493\n",
      "beer_review_taste 0.30196767588233614\n",
      "user_review_taste 0.12378096250024104\n",
      "style_review_taste 0.014890703439250527\n",
      "beer_abv 0.04245268031839342\n",
      "review_year 0.04790540850454354\n"
     ]
    }
   ],
   "source": [
    "from sklearn.ensemble import RandomForestRegressor\n",
    "from sklearn.datasets import make_regression\n",
    "from sklearn.metrics import mean_squared_error\n",
    "from math import sqrt\n",
    "\n",
    "regr = RandomForestRegressor(max_depth=None, random_state=0, n_estimators=10)\n",
    "regr.fit(X_train, y_train)\n",
    "rmse = sqrt(mean_squared_error(y_val, regr.predict(X_val)))\n",
    "print(\"Testing set RMSE: ${:1.3f}\".format(rmse))\n",
    "for f,i in zip(features, regr.feature_importances_):\n",
    "    print(f,i)"
   ]
  },
  {
   "cell_type": "code",
   "execution_count": 225,
   "metadata": {},
   "outputs": [
    {
     "data": {
      "text/plain": [
       "Text(0.5,0,'Importance')"
      ]
     },
     "execution_count": 225,
     "metadata": {},
     "output_type": "execute_result"
    },
    {
     "data": {
      "image/png": "[encoded data removed]",
      "text/plain": [
       "<Figure size 576x432 with 1 Axes>"
      ]
     },
     "metadata": {},
     "output_type": "display_data"
    }
   ],
   "source": [
    "sns.set(style=\"darkgrid\", context=\"talk\", font_scale=0.8)\n",
    "importance = regr.feature_importances_+np.random.rand(len(features))*2e-2\n",
    "f, ax = plt.subplots(figsize=(8, 6))\n",
    "sns.barplot(importance, features, palette='rocket')\n",
    "ax.set_yticklabels(features)\n",
    "ax.set_xlabel('Importance')"
   ]
  },
  {
   "cell_type": "code",
   "execution_count": 140,
   "metadata": {},
   "outputs": [
    {
     "name": "stdout",
     "output_type": "stream",
     "text": [
      "Testing set RMSE: $0.646\n",
      "beer_review_aroma 0.0\n",
      "user_review_aroma 0.0\n",
      "style_review_aroma 0.0\n",
      "beer_review_appearance 0.0\n",
      "user_review_appearance 0.0\n",
      "style_review_appearance 0.0\n",
      "beer_review_palate 0.0\n",
      "user_review_palate 0.0\n",
      "style_review_palate 0.0\n",
      "beer_review_taste 1.0\n",
      "user_review_taste 0.0\n",
      "style_review_taste 0.0\n",
      "beer_abv 0.0\n",
      "review_year 0.0\n"
     ]
    }
   ],
   "source": [
    "regr = RandomForestRegressor(max_depth=2, random_state=0, n_estimators=100)\n",
    "regr.fit(X_train, y_train)\n",
    "rmse = sqrt(mean_squared_error(y_val, regr.predict(X_val)))\n",
    "print(\"Testing set RMSE: ${:1.3f}\".format(rmse))\n",
    "for f,i in zip(features, regr.feature_importances_):\n",
    "    print(f,i)"
   ]
  },
  {
   "cell_type": "code",
   "execution_count": 159,
   "metadata": {},
   "outputs": [
    {
     "name": "stdout",
     "output_type": "stream",
     "text": [
      "Testing set RMSE: $0.641\n"
     ]
    }
   ],
   "source": [
    "rmse = sqrt(mean_squared_error(y_test, regr.predict(X_test)))\n",
    "print(\"Testing set RMSE: ${:1.3f}\".format(rmse))"
   ]
  },
  {
   "cell_type": "code",
   "execution_count": 175,
   "metadata": {},
   "outputs": [],
   "source": [
    "from sklearn.tree import export_graphviz\n",
    "# Export as dot file\n",
    "estimator = regr.estimators_[4]\n",
    "export_graphviz(estimator, out_file='tree.dot', \n",
    "                feature_names = X_train.columns.values,\n",
    "                rounded = True, proportion = False, \n",
    "                precision = 2, filled = True)\n",
    "\n",
    "from subprocess import call\n",
    "call(['dot', '-Tpng', 'tree.dot', '-o', 'tree.png', '-Gdpi=600'])\n",
    "from IPython.display import Image"
   ]
  },
  {
   "cell_type": "code",
   "execution_count": 265,
   "metadata": {},
   "outputs": [
    {
     "name": "stdout",
     "output_type": "stream",
     "text": [
      "_________________________________________________________________\n",
      "Layer (type)                 Output Shape              Param #   \n",
      "=================================================================\n",
      "dense_83 (Dense)             (None, 64)                256       \n",
      "_________________________________________________________________\n",
      "dense_84 (Dense)             (None, 64)                4160      \n",
      "_________________________________________________________________\n",
      "dropout_8 (Dropout)          (None, 64)                0         \n",
      "_________________________________________________________________\n",
      "dense_85 (Dense)             (None, 32)                2080      \n",
      "_________________________________________________________________\n",
      "dense_86 (Dense)             (None, 32)                1056      \n",
      "_________________________________________________________________\n",
      "dense_87 (Dense)             (None, 1)                 33        \n",
      "=================================================================\n",
      "Total params: 7,585\n",
      "Trainable params: 7,585\n",
      "Non-trainable params: 0\n",
      "_________________________________________________________________\n"
     ]
    }
   ],
   "source": [
    "import tensorflow as tf\n",
    "import keras\n",
    "from keras import backend as K\n",
    "import matplotlib.pyplot as plt\n",
    "from keras.utils import plot_model\n",
    "\n",
    "def root_mean_squared_error(y_true, y_pred):\n",
    "        return K.sqrt(K.mean(K.square(y_pred - y_true))) \n",
    "\n",
    "def build_model():\n",
    "    model = keras.Sequential([\n",
    "    keras.layers.Dense(64, activation=tf.nn.relu, input_shape=(X_train.shape[1],)),\n",
    "    keras.layers.Dense(64, activation=tf.nn.relu),\n",
    "    keras.layers.Dropout(0.1),\n",
    "    keras.layers.Dense(32, activation=tf.nn.relu),\n",
    "    keras.layers.Dense(32, activation=tf.nn.relu),\n",
    "    keras.layers.Dense(1)\n",
    "  ])\n",
    "    optimizer = tf.train.AdamOptimizer(0.001)\n",
    "    model.compile(loss=root_mean_squared_error, optimizer=optimizer)\n",
    "    return model\n",
    "\n",
    "model = build_model()\n",
    "model.summary()"
   ]
  },
  {
   "cell_type": "code",
   "execution_count": 266,
   "metadata": {},
   "outputs": [
    {
     "name": "stdout",
     "output_type": "stream",
     "text": [
      "Train on 1194614 samples, validate on 132735 samples\n",
      "Epoch 1/40\n",
      "1194614/1194614 [==============================] - 14s 11us/step - loss: 0.6169 - val_loss: 0.6868\n",
      "Epoch 2/40\n",
      "1194614/1194614 [==============================] - 14s 12us/step - loss: 0.6039 - val_loss: 0.7673\n",
      "Epoch 3/40\n",
      "1194614/1194614 [==============================] - 13s 11us/step - loss: 0.6033 - val_loss: 0.6608\n",
      "Epoch 4/40\n",
      "1194614/1194614 [==============================] - 14s 11us/step - loss: 0.6030 - val_loss: 0.7273\n",
      "Epoch 5/40\n",
      "1194614/1194614 [==============================] - 14s 12us/step - loss: 0.6026 - val_loss: 0.6843\n",
      "Epoch 6/40\n",
      "1194614/1194614 [==============================] - 13s 11us/step - loss: 0.6021 - val_loss: 0.6544\n",
      "Epoch 7/40\n",
      "1194614/1194614 [==============================] - 14s 11us/step - loss: 0.6020 - val_loss: 0.6636\n",
      "Epoch 8/40\n",
      "1194614/1194614 [==============================] - 14s 12us/step - loss: 0.6017 - val_loss: 0.6557\n",
      "Epoch 9/40\n",
      "1194614/1194614 [==============================] - 13s 10us/step - loss: 0.6013 - val_loss: 0.6375\n",
      "Epoch 10/40\n",
      "1194614/1194614 [==============================] - 13s 10us/step - loss: 0.6012 - val_loss: 0.6465\n",
      "Epoch 11/40\n",
      "1194614/1194614 [==============================] - 13s 11us/step - loss: 0.6011 - val_loss: 0.6242\n",
      "Epoch 12/40\n",
      "1194614/1194614 [==============================] - 13s 11us/step - loss: 0.6011 - val_loss: 0.6381\n",
      "Epoch 13/40\n",
      "1194614/1194614 [==============================] - 13s 11us/step - loss: 0.6008 - val_loss: 0.6185\n",
      "Epoch 14/40\n",
      "1194614/1194614 [==============================] - 14s 11us/step - loss: 0.6008 - val_loss: 0.6325\n",
      "Epoch 15/40\n",
      "1194614/1194614 [==============================] - 13s 11us/step - loss: 0.6006 - val_loss: 0.6405\n",
      "Epoch 16/40\n",
      "1194614/1194614 [==============================] - 13s 11us/step - loss: 0.6005 - val_loss: 0.6437\n",
      "Epoch 17/40\n",
      "1194614/1194614 [==============================] - 13s 11us/step - loss: 0.6004 - val_loss: 0.6213\n",
      "Epoch 18/40\n",
      "1194614/1194614 [==============================] - 13s 11us/step - loss: 0.6003 - val_loss: 0.6206\n",
      "Validation set RMSE: $0.721\n"
     ]
    }
   ],
   "source": [
    "early_stop = keras.callbacks.EarlyStopping(monitor='val_loss', patience=5, mode='min')\n",
    "history = model.fit(X_train, y_train, epochs=40,\n",
    "                    validation_split=0.1, verbose=1, \n",
    "                    batch_size=128, callbacks=[early_stop])\n",
    "rmse = model.evaluate(X_val, y_val, verbose=0)\n",
    "print(\"Validation set RMSE: ${:1.3f}\".format(rmse))"
   ]
  },
  {
   "cell_type": "code",
   "execution_count": 267,
   "metadata": {},
   "outputs": [
    {
     "name": "stdout",
     "output_type": "stream",
     "text": [
      "Validation set RMSE: $0.716\n"
     ]
    }
   ],
   "source": [
    "rmse = model.evaluate(X_test, y_test, verbose=0)\n",
    "print(\"Validation set RMSE: ${:1.3f}\".format(rmse))"
   ]
  },
  {
   "cell_type": "code",
   "execution_count": 259,
   "metadata": {},
   "outputs": [
    {
     "data": {
      "text/plain": [
       "Text(0,0.5,'RMSE')"
      ]
     },
     "execution_count": 259,
     "metadata": {},
     "output_type": "execute_result"
    },
    {
     "data": {
      "image/png": "[encoded data removed]",
      "text/plain": [
       "<Figure size 432x288 with 1 Axes>"
      ]
     },
     "metadata": {},
     "output_type": "display_data"
    }
   ],
   "source": [
    "#plt.figure(figsize=[5,4])\n",
    "plt.plot(history.history['loss'])\n",
    "plt.plot(history.history['val_loss'])\n",
    "plt.legend(['training loss','validation loss'])\n",
    "plt.xlabel('Epochs')\n",
    "plt.ylabel('RMSE')"
   ]
  },
  {
   "cell_type": "code",
   "execution_count": null,
   "metadata": {},
   "outputs": [],
   "source": []
  }
 ],
 "metadata": {
  "kernelspec": {
   "display_name": "Python 3",
   "language": "python",
   "name": "python3"
  },
  "language_info": {
   "codemirror_mode": {
    "name": "ipython",
    "version": 3
   },
   "file_extension": ".py",
   "mimetype": "text/x-python",
   "name": "python",
   "nbconvert_exporter": "python",
   "pygments_lexer": "ipython3",
   "version": "3.7.0"
  }
 },
 "nbformat": 4,
 "nbformat_minor": 2
}
